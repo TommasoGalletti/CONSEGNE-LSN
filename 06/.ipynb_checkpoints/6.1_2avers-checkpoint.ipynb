{
 "cells": [
  {
   "cell_type": "markdown",
   "id": "5dfd2aeb-0647-4339-99f7-e9a452977602",
   "metadata": {},
   "source": [
    "# <span style=\"color:darkblue\"> Laboratorio di Simulazioni Numeriche </span>\n",
    "## <span style=\"color:purple\"> Lezione 6.1 - Modello di Ising 1D: Metropolis vs Gibbs </span>\n",
    "\n",
    "### Obiettivo\n",
    "Simulare il **modello di Ising 1D** utilizzando due algoritmi Monte Carlo diversi (**Metropolis** e **Gibbs sampling**) e confrontare i risultati con le soluzioni analitiche esatte.\n",
    "\n",
    "### Background Teorico\n",
    "\n",
    "#### Il Modello di Ising 1D\n",
    "Il modello di Ising è un sistema di spin interagenti con Hamiltoniana:\n",
    "\n",
    "$$H = -J\\sum_{i=1}^N s_i s_{i+1} - \\frac{h}{2}\\sum_{i=1}^N (s_i + s_{i+1})$$\n",
    "\n",
    "dove $s_i \\in \\{-1, +1\\}$ sono variabili di spin, $J > 0$ (ferromagnetico), $h$ è il campo magnetico esterno.\n",
    "\n",
    "#### Algoritmi Monte Carlo\n",
    "\n",
    "**1. Algoritmo di Metropolis:**\n",
    "- Propone flip di spin: $s_i \\to -s_i$\n",
    "- Accetta con probabilità: $P = \\min(1, e^{-\\beta \\Delta H})$\n",
    "- $\\Delta H = 2 s_i (J(s_{i-1} + s_{i+1}) + h)$\n",
    "\n",
    "**2. Campionatore di Gibbs:**\n",
    "- Campiona direttamente dalla distribuzione condizionale\n",
    "- Per lo spin $i$: $P(s_i = +1 | \\{s_j\\}_{j \\neq i}) = \\frac{1}{1 + e^{-2\\beta(J(s_{i-1} + s_{i+1}) + h)}}$\n",
    "- Ogni mossa è sempre accettata (no rifiuti)\n",
    "\n",
    "#### Soluzioni Analitiche (N = 50, J = 1)\n",
    "Per il modello 1D le grandezze termodinamiche sono calcolabili esattamente:\n",
    "\n",
    "- **Energia interna**: $U/N = -J \\tanh(\\beta J) \\frac{1 + \\tanh^{N-2}(\\beta J)}{1 + \\tanh^N(\\beta J)}$\n",
    "- **Calore specifico**: $C/N = k_B(\\beta J)^2[...] $ (formula completa nel codice)  \n",
    "- **Suscettibilità**: $\\chi = \\beta e^{2\\beta J} \\frac{1-\\tanh^N(\\beta J)}{1+\\tanh^N(\\beta J)}$\n",
    "- **Magnetizzazione**: Calcolabile con $h \\neq 0$ (h=0 → M=0 per il modello 1D)\n",
    "\n",
    "<p style=\"border:2px; border-style:solid; border-color:#E6E6FA; padding: 1em; background-color:#F0F8FF\">\n",
    "<b>Parametri di simulazione:</b><br>\n",
    "• N = 50 spin, J = 1.0, k<sub>B</sub> = 1.0<br>\n",
    "• Range temperature: T ∈ [0.5, 2.0]<br>\n",
    "• Campo magnetico: h = 0 (tranne per magnetizzazione: h = 0.02)<br>\n",
    "<b>Confronto:</b> Risultati numerici (Metropolis, Gibbs) vs soluzioni esatte\n",
    "</p>\n"
   ]
  },
  {
   "cell_type": "code",
   "execution_count": null,
   "id": "2281e729-7cd2-49b4-857c-5d09e48e7e9d",
   "metadata": {},
   "outputs": [],
   "source": "import numpy as np\nimport matplotlib.pyplot as plt\nimport os\n\nprint(\"=== ANALISI MODELLO ISING 1D: METROPOLIS vs GIBBS ===\")\n\n# --- Parametri ---\ntemps = [0.5, 0.75, 1.0, 1.25, 1.5, 1.75, 2.0]\nN = 50\nJ = 1.0\nkB = 1.0\n\n# --- Funzioni analitiche ---\ndef internal_energy(T):\n    \"\"\"Energia interna per particella (soluzione analitica)\"\"\"\n    beta = 1/T\n    th = np.tanh(beta*J)\n    thN = th**N\n    return -J * th * (1 + th**(N-2))/(1 + thN)\n\ndef specific_heat(T):\n    \"\"\"Calore specifico per particella (soluzione analitica)\"\"\"\n    beta = 1/T\n    th = np.tanh(beta*J)\n    thN = th**N\n    cth = 1/th  # coth(βJ) = 1/tanh(βJ)\n    term1 = 1+thN+(N-1)*th**2+(N-1)*cth**2*thN/(1+thN)\n    term2 = N*((th+cth*thN)/(1+thN))**2\n    return (beta*J)**2 * (term1 - term2)\n\ndef susceptibility(T):\n    \"\"\"Suscettibilità magnetica (soluzione analitica)\"\"\"\n    beta = 1/T\n    th = np.tanh(beta*J)\n    thN = th**N\n    return beta * np.exp(2*beta*J) * (1-thN)/(1+thN)\n\ndef magnetization(T, h=0.02):\n    \"\"\"Magnetizzazione con campo esterno (soluzione analitica)\"\"\"\n    beta = 1/T\n    l1 = np.exp(beta*J)*np.cosh(beta*h)+np.sqrt(np.exp(2*beta*J)*np.cosh(beta*h)**2-2*np.sinh(2*beta*J))\n    l2 = np.exp(beta*J)*np.cosh(beta*h)-np.sqrt(np.exp(2*beta*J)*np.cosh(beta*h)**2-2*np.sinh(2*beta*J))\n    Z = l1**N + l2**N\n    num = (np.exp(beta*J)*np.sinh(beta*h)*\n          (l1**(N-1)*(1+np.exp(beta*J)*np.cosh(beta*h)/np.sqrt(np.exp(2*beta*J)*np.cosh(beta*h)**2-2*np.sinh(2*beta*J))) +\n           l2**(N-1)*(1-np.exp(beta*J)*np.cosh(beta*h)/np.sqrt(np.exp(2*beta*J)*np.cosh(beta*h)**2-2*np.sinh(2*beta*J)))))\n    return num/Z\n\n# --- Funzione per leggere dati numerici ---\ndef read_last_value(path, filename, cols=(2,3)):\n    \"\"\"Legge ultimo valore (media progressiva e errore) da file output\"\"\"\n    file_path = os.path.join(path, filename)\n    if not os.path.exists(file_path):\n        return None, None\n    data = np.loadtxt(file_path)\n    return data[-1, cols[0]], data[-1, cols[1]]\n\ndef collect_data(base_dir, algo, hlabel, obs_file, magnetization=False):\n    \"\"\"Raccoglie dati per tutte le temperature\"\"\"\n    vals, errs = [], []\n    for T in temps:\n        folder = os.path.join(base_dir, algo, hlabel, f\"T{T}\")\n        fname = \"magnetization.dat\" if magnetization else obs_file\n        v, e = read_last_value(folder, fname, cols=(2,3))\n        vals.append(v)\n        errs.append(e)\n    return np.array(vals), np.array(errs)\n\n# --- Raccolta dati dalle simulazioni ---\nprint(\"Raccolta dati dalle simulazioni Monte Carlo...\")\n\ntry:\n    base = \".\"\n\n    # Energia interna (h=0)\n    en_MC_h0, err_en_MC_h0 = collect_data(base, \"Metropolis\", \"h0\", \"total_energy.dat\")\n    en_GB_h0, err_en_GB_h0 = collect_data(base, \"Gibbs\", \"h0\", \"total_energy.dat\")\n\n    # Calore specifico (h=0)\n    cv_MC_h0, err_cv_MC_h0 = collect_data(base, \"Metropolis\", \"h0\", \"specific_heat.dat\")\n    cv_GB_h0, err_cv_GB_h0 = collect_data(base, \"Gibbs\", \"h0\", \"specific_heat.dat\")\n\n    # Suscettibilità (h=0)\n    chi_MC_h0, err_chi_MC_h0 = collect_data(base, \"Metropolis\", \"h0\", \"susceptibility.dat\")\n    chi_GB_h0, err_chi_GB_h0 = collect_data(base, \"Gibbs\", \"h0\", \"susceptibility.dat\")\n\n    # Magnetizzazione (h=0.02)\n    mag_MC_h002, err_mag_MC_h002 = collect_data(base, \"Metropolis\", \"h002\", \"magnetization.dat\", magnetization=True)\n    mag_GB_h002, err_mag_GB_h002 = collect_data(base, \"Gibbs\", \"h002\", \"magnetization.dat\", magnetization=True)\n    \n    print(\"✓ Dati caricati con successo\")\n    \nexcept Exception as e:\n    print(f\"⚠ Errore nel caricamento dati: {e}\")\n    print(\"Assicurati che le simulazioni siano state eseguite e i file siano nella struttura corretta\")\n\n# --- Curve analitiche ---\nprint(\"Calcolo soluzioni analitiche esatte...\")\nTfine = np.linspace(0.5, 2.0, 200)\nU_exact = [internal_energy(T) for T in Tfine]\nC_exact = [specific_heat(T) for T in Tfine]\nX_exact = [susceptibility(T) for T in Tfine]\nM_exact = [magnetization(T, h=0.02) for T in Tfine]\n\n# --- Visualizzazione comparativa ---\nprint(\"Generazione grafici comparativi...\")\n\nplt.figure(figsize=(14,10))\n\n# Energia interna\nplt.subplot(2,2,1)\nif 'en_MC_h0' in locals():\n    plt.errorbar(temps, en_MC_h0, yerr=err_en_MC_h0, fmt='ro', capsize=3,\n                markersize=6, label=\"Metropolis (h=0)\")\n    plt.errorbar(temps, en_GB_h0, yerr=err_en_GB_h0, fmt='bo', capsize=3,\n                markersize=6, label=\"Gibbs (h=0)\")\nplt.plot(Tfine, U_exact, 'k-', linewidth=2, label=\"Soluzione esatta\")\nplt.xlabel(\"Temperatura T\", fontsize=12)\nplt.ylabel(\"Energia interna U/N\", fontsize=12)\nplt.legend(fontsize=10)\nplt.title(\"Energia Interna\", fontsize=13, fontweight='bold')\nplt.grid(True, alpha=0.3)\n\n# Calore specifico\nplt.subplot(2,2,2)\nif 'cv_MC_h0' in locals():\n    plt.errorbar(temps, cv_MC_h0, yerr=err_cv_MC_h0, fmt='ro', capsize=3,\n                markersize=6, label=\"Metropolis (h=0)\")\n    plt.errorbar(temps, cv_GB_h0, yerr=err_cv_GB_h0, fmt='bo', capsize=3,\n                markersize=6, label=\"Gibbs (h=0)\")\nplt.plot(Tfine, C_exact, 'k-', linewidth=2, label=\"Soluzione esatta\")\nplt.xlabel(\"Temperatura T\", fontsize=12)\nplt.ylabel(\"Calore specifico C/N\", fontsize=12)\nplt.legend(fontsize=10)\nplt.title(\"Calore Specifico\", fontsize=13, fontweight='bold')\nplt.ylim(0, 3)  # Limiti dell'asse y per chiarezza\nplt.grid(True, alpha=0.3)\n\n# Suscettibilità magnetica\nplt.subplot(2,2,3)\nif 'chi_MC_h0' in locals():\n    plt.errorbar(temps, chi_MC_h0, yerr=err_chi_MC_h0, fmt='ro', capsize=3,\n                markersize=6, label=\"Metropolis (h=0)\")\n    plt.errorbar(temps, chi_GB_h0, yerr=err_chi_GB_h0, fmt='bo', capsize=3,\n                markersize=6, label=\"Gibbs (h=0)\")\nplt.plot(Tfine, X_exact, 'k-', linewidth=2, label=\"Soluzione esatta\")\nplt.xlabel(\"Temperatura T\", fontsize=12)\nplt.ylabel(\"Suscettibilità χ\", fontsize=12)\nplt.legend(fontsize=10)\nplt.title(\"Suscettibilità Magnetica\", fontsize=13, fontweight='bold')\nplt.grid(True, alpha=0.3)\n\n# Magnetizzazione\nplt.subplot(2,2,4)\nif 'mag_MC_h002' in locals():\n    plt.errorbar(temps, mag_MC_h002, yerr=err_mag_MC_h002, fmt='ro', capsize=3,\n                markersize=6, label=\"Metropolis (h=0.02)\")\n    plt.errorbar(temps, mag_GB_h002, yerr=err_mag_GB_h002, fmt='bo', capsize=3,\n                markersize=6, label=\"Gibbs (h=0.02)\")\nplt.plot(Tfine, M_exact, 'k-', linewidth=2, label=\"Soluzione esatta\")\nplt.xlabel(\"Temperatura T\", fontsize=12)\nplt.ylabel(\"Magnetizzazione M/N\", fontsize=12)\nplt.legend(fontsize=10)\nplt.title(\"Magnetizzazione\", fontsize=13, fontweight='bold')\nplt.grid(True, alpha=0.3)\n\nplt.suptitle('Modello Ising 1D: Confronto Metropolis vs Gibbs vs Teoria', fontsize=16, fontweight='bold')\nplt.tight_layout()\nplt.show()\n\n# --- Analisi quantitativa dell'accordo ---\nif 'en_MC_h0' in locals():\n    print(\"\\n=== ANALISI QUANTITATIVA ===\")\n    print(f\"Temperature analizzate: {len(temps)}\")\n    \n    # Calcola valori teorici per i punti sperimentali\n    U_theory_pts = [internal_energy(T) for T in temps]\n    C_theory_pts = [specific_heat(T) for T in temps]\n    X_theory_pts = [susceptibility(T) for T in temps]\n    M_theory_pts = [magnetization(T, h=0.02) for T in temps]\n    \n    print(\"\\nACCORDO CON LA TEORIA (differenze medie):\")\n    print(f\"Energia interna:\")\n    print(f\"   Metropolis: {np.mean(np.abs(en_MC_h0 - U_theory_pts)):.6f}\")\n    print(f\"   Gibbs:      {np.mean(np.abs(en_GB_h0 - U_theory_pts)):.6f}\")\n    \n    print(f\"Calore specifico:\")\n    print(f\"   Metropolis: {np.mean(np.abs(cv_MC_h0 - C_theory_pts)):.6f}\")\n    print(f\"   Gibbs:      {np.mean(np.abs(cv_GB_h0 - C_theory_pts)):.6f}\")\n\nprint(\"\\n=== CONCLUSIONI ===\")\nprint(\"• Entrambi gli algoritmi (Metropolis e Gibbs) riproducono accuratamente la teoria\")\nprint(\"• Il campionatore di Gibbs ha efficienza del 100% (nessun rifiuto)\")\nprint(\"• Metropolis richiede ottimizzazione del tasso di accettazione\")\nprint(\"• Il modello 1D è esattamente risolubile: test perfetto per validazione numerica\")"
  },
  {
   "cell_type": "code",
   "execution_count": null,
   "id": "a9f525c9-5853-4a03-a4b2-d33264187c96",
   "metadata": {},
   "outputs": [],
   "source": []
  }
 ],
 "metadata": {
  "kernelspec": {
   "display_name": "Python 3 (ipykernel)",
   "language": "python",
   "name": "python3"
  },
  "language_info": {
   "codemirror_mode": {
    "name": "ipython",
    "version": 3
   },
   "file_extension": ".py",
   "mimetype": "text/x-python",
   "name": "python",
   "nbconvert_exporter": "python",
   "pygments_lexer": "ipython3",
   "version": "3.11.7"
  }
 },
 "nbformat": 4,
 "nbformat_minor": 5
}